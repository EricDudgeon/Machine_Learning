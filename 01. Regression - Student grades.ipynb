{
 "cells": [
  {
   "cell_type": "code",
   "execution_count": 1,
   "metadata": {
    "ExecuteTime": {
     "end_time": "2020-12-28T04:25:32.202373Z",
     "start_time": "2020-12-28T04:25:31.054733Z"
    }
   },
   "outputs": [],
   "source": [
    "import pandas as pd\n",
    "import numpy as np\n",
    "import sklearn\n",
    "from sklearn import linear_model\n",
    "from sklearn.utils import shuffle\n",
    "import matplotlib.pyplot as plt\n",
    "from matplotlib import style\n",
    "import pickle\n"
   ]
  },
  {
   "cell_type": "code",
   "execution_count": 2,
   "metadata": {
    "ExecuteTime": {
     "end_time": "2020-12-28T04:25:34.102308Z",
     "start_time": "2020-12-28T04:25:34.055435Z"
    }
   },
   "outputs": [
    {
     "name": "stdout",
     "output_type": "stream",
     "text": [
      "  school sex  age address famsize Pstatus  Medu  Fedu     Mjob      Fjob  ...  \\\n",
      "0     GP   F   18       U     GT3       A     4     4  at_home   teacher  ...   \n",
      "1     GP   F   17       U     GT3       T     1     1  at_home     other  ...   \n",
      "2     GP   F   15       U     LE3       T     1     1  at_home     other  ...   \n",
      "3     GP   F   15       U     GT3       T     4     2   health  services  ...   \n",
      "4     GP   F   16       U     GT3       T     3     3    other     other  ...   \n",
      "\n",
      "  famrel freetime  goout  Dalc  Walc health absences  G1  G2  G3  \n",
      "0      4        3      4     1     1      3        6   5   6   6  \n",
      "1      5        3      3     1     1      3        4   5   5   6  \n",
      "2      4        3      2     2     3      3       10   7   8  10  \n",
      "3      3        2      2     1     1      5        2  15  14  15  \n",
      "4      4        3      2     1     2      5        4   6  10  10  \n",
      "\n",
      "[5 rows x 33 columns]\n"
     ]
    }
   ],
   "source": [
    "style.use(\"ggplot\")\n",
    "data = pd.read_csv(\"student-mat.csv\", sep=\";\")\n",
    "print(data.head())"
   ]
  },
  {
   "cell_type": "code",
   "execution_count": 3,
   "metadata": {
    "ExecuteTime": {
     "end_time": "2020-12-28T04:25:37.276578Z",
     "start_time": "2020-12-28T04:25:37.263647Z"
    }
   },
   "outputs": [
    {
     "name": "stdout",
     "output_type": "stream",
     "text": [
      "   G1  G2  G3  studytime  failures  absences\n",
      "0   5   6   6          2         0         6\n",
      "1   5   5   6          2         0         4\n",
      "2   7   8  10          2         3        10\n",
      "3  15  14  15          3         0         2\n",
      "4   6  10  10          2         0         4\n"
     ]
    }
   ],
   "source": [
    "data = data[[\"G1\", \"G2\", \"G3\", \"studytime\", \"failures\", \"absences\"]]\n",
    "print(data.head())"
   ]
  },
  {
   "cell_type": "code",
   "execution_count": 4,
   "metadata": {
    "ExecuteTime": {
     "end_time": "2020-12-28T04:25:40.152603Z",
     "start_time": "2020-12-28T04:25:40.143632Z"
    }
   },
   "outputs": [],
   "source": [
    "predict = \"G3\"\n",
    "\n",
    "x = np.array(data.drop([predict], 1)) # Features\n",
    "y = np.array(data[predict]) # Labels"
   ]
  },
  {
   "cell_type": "code",
   "execution_count": 5,
   "metadata": {
    "ExecuteTime": {
     "end_time": "2020-12-28T04:25:44.129043Z",
     "start_time": "2020-12-28T04:25:43.988657Z"
    }
   },
   "outputs": [
    {
     "name": "stdout",
     "output_type": "stream",
     "text": [
      "Accuracy: 0.8569202803570719\n",
      "updating\n",
      "Accuracy: 0.8336476396344632\n",
      "Accuracy: 0.8682907490708309\n",
      "updating\n",
      "Accuracy: 0.8910740348366297\n",
      "updating\n",
      "Accuracy: 0.8575907454460413\n",
      "Accuracy: 0.7801503538786178\n",
      "Accuracy: 0.7043540854316723\n",
      "Accuracy: 0.8658171614467548\n",
      "Accuracy: 0.8433101209804276\n",
      "Accuracy: 0.8308974878071552\n",
      "Accuracy: 0.9372952575053444\n",
      "updating\n",
      "Accuracy: 0.8088527913593053\n",
      "Accuracy: 0.799366086973076\n",
      "Accuracy: 0.7541356969948394\n",
      "Accuracy: 0.7912791132501918\n",
      "Accuracy: 0.8681617655623319\n",
      "Accuracy: 0.792113014797169\n",
      "Accuracy: 0.7043119413026436\n",
      "Accuracy: 0.8860722738553629\n",
      "Accuracy: 0.8148366184820565\n",
      "Accuracy: 0.8680742444977273\n",
      "Accuracy: 0.5906731253700461\n",
      "Accuracy: 0.7971709557607078\n",
      "Accuracy: 0.8120772870188167\n",
      "Accuracy: 0.6914496909349089\n",
      "Accuracy: 0.9294728214339039\n",
      "Accuracy: 0.7429116893612087\n",
      "Accuracy: 0.7994824656321101\n",
      "Accuracy: 0.8360080709800577\n",
      "Accuracy: 0.7731354721043683\n",
      "Accuracy: 0.9196584848317\n",
      "Accuracy: 0.9217557928399561\n",
      "Accuracy: 0.8198504190449154\n",
      "Accuracy: 0.8794692079230781\n",
      "Accuracy: 0.7468750002183001\n",
      "Accuracy: 0.8495969254404807\n",
      "Accuracy: 0.916338103541387\n",
      "Accuracy: 0.8220575043903684\n",
      "Accuracy: 0.8543940929526959\n",
      "Accuracy: 0.8874007196427033\n",
      "Accuracy: 0.8593881910128865\n",
      "Accuracy: 0.898873986171354\n",
      "Accuracy: 0.7791966196270218\n",
      "Accuracy: 0.8433517014032663\n",
      "Accuracy: 0.905614119756724\n",
      "Accuracy: 0.7133609955698844\n",
      "Accuracy: 0.6909673696739118\n",
      "Accuracy: 0.7768289658002634\n",
      "Accuracy: 0.8174228858799298\n",
      "Accuracy: 0.7924604947984921\n"
     ]
    }
   ],
   "source": [
    "best = 0\n",
    "for _ in range(50):\n",
    "    x_train, x_test, y_train, y_test = sklearn.model_selection.train_test_split(x, y, test_size=0.1)\n",
    "\n",
    "    linear = linear_model.LinearRegression()\n",
    "\n",
    "    linear.fit(x_train, y_train)\n",
    "    acc = linear.score(x_test, y_test)\n",
    "    print(\"Accuracy: \" + str(acc))\n",
    "\n",
    "    if acc > best:\n",
    "        print(\"updating\")\n",
    "        best = acc\n",
    "        with open(\"studentgrades.pkl\", \"wb\") as f:\n",
    "            pickle.dump(linear, f)\n",
    "        \n"
   ]
  },
  {
   "cell_type": "code",
   "execution_count": 6,
   "metadata": {
    "ExecuteTime": {
     "end_time": "2020-12-28T04:25:51.176877Z",
     "start_time": "2020-12-28T04:25:51.147924Z"
    }
   },
   "outputs": [],
   "source": [
    "# LOAD MODEL\n",
    "pickle_in = open(\"studentgrades.pkl\", \"rb\")\n",
    "pickle_model = pickle.load(pickle_in)\n"
   ]
  },
  {
   "cell_type": "code",
   "execution_count": 7,
   "metadata": {
    "ExecuteTime": {
     "end_time": "2020-12-28T04:26:00.992799Z",
     "start_time": "2020-12-28T04:26:00.969831Z"
    }
   },
   "outputs": [
    {
     "name": "stdout",
     "output_type": "stream",
     "text": [
      "-------------------------\n",
      "Accuracy: \n",
      " 0.7978136817340311\n",
      "Best 0.9372952575053444\n",
      "Coefficient: \n",
      " [ 0.17188374  0.96750419 -0.18888992 -0.25024338  0.03823059]\n",
      "Intercept: \n",
      " -1.5914118854261616\n",
      "-------------------------\n"
     ]
    }
   ],
   "source": [
    "accuracy = pickle_model.score(x_test, y_test)\n",
    "print(\"-------------------------\")\n",
    "print(\"Accuracy: \\n\",accuracy)\n",
    "print(\"Best\",best)\n",
    "print('Coefficient: \\n', pickle_model.coef_)\n",
    "print('Intercept: \\n', pickle_model.intercept_)\n",
    "print(\"-------------------------\")"
   ]
  },
  {
   "cell_type": "code",
   "execution_count": 8,
   "metadata": {
    "ExecuteTime": {
     "end_time": "2020-12-28T04:26:06.172142Z",
     "start_time": "2020-12-28T04:26:06.140921Z"
    }
   },
   "outputs": [
    {
     "name": "stdout",
     "output_type": "stream",
     "text": [
      "9.470086451041812 [ 9 10  3  0  9] 9\n",
      "8.89994261606279 [9 9 1 0 8] 10\n",
      "10.685988862057341 [10 11  2  0  6] 11\n",
      "8.278550260124808 [8 9 2 0 2] 10\n",
      "17.545885631956445 [16 17  1  0  4] 18\n",
      "10.171779174326577 [11 10  1  0  8] 10\n",
      "12.183622437400798 [10 13  4  0  6] 13\n",
      "14.433381279551183 [15 14  2  0  8] 14\n",
      "5.031036721799227 [7 6 1 1 0] 0\n",
      "10.677525314430554 [ 9  9  2  0 56] 8\n",
      "13.259917306633314 [12 13  2  0 14] 12\n",
      "10.754106119354862 [11 11  2  0  4] 11\n",
      "10.147025450004282 [11 11  4  0  0] 11\n",
      "13.78588163120031 [13 13  2  0 23] 13\n",
      "12.828565036000503 [13 13  2  0  0] 13\n",
      "7.823647746830273 [7 9 3 0 0] 8\n",
      "14.252579750320338 [14 14  1  0  2] 13\n",
      "12.094875912352974 [12 12  1  0  4] 13\n",
      "12.261365754996417 [12 12  1  0  8] 12\n",
      "9.232106323912877 [11  9  2  0 14] 9\n",
      "7.074830959158543 [7 8 2 0 0] 0\n",
      "7.7635245949572464 [11  8  2  0  2] 8\n",
      "9.261974147737506 [ 9 10  3  0  4] 10\n",
      "8.329844207161436 [ 7 10  4  1  2] 10\n",
      "12.298348015445645 [10 13  2  1  6] 13\n",
      "-0.7932816666257638 [12  0  3  2  0] 0\n",
      "11.351560728407346 [10 12  3  0  4] 12\n",
      "11.056830476593353 [13 11  2  0  4] 11\n",
      "9.633631739710319 [10 10  2  0  4] 10\n",
      "12.677202857381259 [12 13  2  0  0] 13\n",
      "6.832127818479776 [ 6  8  1  3 16] 8\n",
      "12.821367786037705 [12 13  1  1  6] 14\n",
      "8.62371305546096 [8 9 1 0 5] 9\n",
      "12.761263756139781 [10 13  1  0  4] 14\n",
      "12.843692700024704 [12 13  2  0  4] 13\n",
      "8.69516237095719 [ 8  8  1  0 30] 8\n",
      "9.148861402591155 [11  9  2  0 12] 9\n",
      "8.816697694741066 [9 9 1 0 6] 10\n",
      "9.276285834324904 [10 10  4  0  6] 11\n",
      "9.61850407568612 [11 10  2  0  0] 10\n"
     ]
    }
   ],
   "source": [
    "predictions = linear.predict(x_test)\n",
    "\n",
    "for x in range(len(predictions)):\n",
    "    print(predictions[x], x_test[x], y_test[x])"
   ]
  },
  {
   "cell_type": "code",
   "execution_count": null,
   "metadata": {
    "ExecuteTime": {
     "end_time": "2020-12-28T04:23:23.752063Z",
     "start_time": "2020-12-28T04:23:23.514091Z"
    }
   },
   "outputs": [],
   "source": [
    "plot = \"failures\"\n",
    "plt.scatter(data[plot], data[\"G3\"])\n",
    "plt.legend(loc=4)\n",
    "plt.xlabel(plot)\n",
    "plt.ylabel(\"Final Grade\")\n",
    "plt.show()"
   ]
  }
 ],
 "metadata": {
  "kernelspec": {
   "display_name": "Python 3",
   "language": "python",
   "name": "python3"
  },
  "language_info": {
   "codemirror_mode": {
    "name": "ipython",
    "version": 3
   },
   "file_extension": ".py",
   "mimetype": "text/x-python",
   "name": "python",
   "nbconvert_exporter": "python",
   "pygments_lexer": "ipython3",
   "version": "3.7.6"
  }
 },
 "nbformat": 4,
 "nbformat_minor": 4
}
