{
 "cells": [
  {
   "cell_type": "markdown",
   "metadata": {},
   "source": [
    "### K Means Clustering\n",
    "K Means clustering is an unsupervised learning algorithm that attempts to divide our training data into k unique clusters to classify information. This means this algorithm does not require labels for given test data. It is responsible for learning the differences between our data points and determine what features determining what class."
   ]
  },
  {
   "cell_type": "markdown",
   "metadata": {},
   "source": [
    "Partitional clustering - Two examples of partitional clustering algorithms are k-means and k-medoids.\n",
    "\n",
    "    Strengths:\n",
    "    They work well when clusters have a spherical shape.\n",
    "    They’re scalable with respect to algorithm complexity.\n",
    "    Weaknesses:\n",
    "    They’re not well suited for clusters with complex shapes and different sizes.\n",
    "    They break down when used with clusters of different densities."
   ]
  },
  {
   "cell_type": "markdown",
   "metadata": {},
   "source": [
    "Hierarchical clustering - determines cluster assignments by building a hierarchy. This is implemented by either a bottom-up or a top-down approach:\n",
    "\n",
    "    Agglomerative clustering -  is the bottom-up approach. It merges the two points that are the most similar until all points have been merged into a single cluster.\n",
    "\n",
    "    Divisive clustering -  is the top-down approach. It starts with all points as one cluster and splits the least similar clusters at each step until only single data points remain.\n",
    "    \n",
    "    Strengths:\n",
    "    They often reveal the finer details about the relationships between data objects.\n",
    "    They provide an interpretable dendrogram.\n",
    "    \n",
    "    Weaknesses:\n",
    "    They’re computationally expensive with respect to algorithm complexity.\n",
    "    They’re sensitive to noise and outliers."
   ]
  },
  {
   "cell_type": "markdown",
   "metadata": {},
   "source": [
    "Density-based clustering - determines cluster assignments based on the density of data points in a region. Clusters are assigned where there are high densities of data points separated by low-density regions.\n",
    "\n",
    "    This approach doesn’t require the user to specify the number of clusters. Examples: Density-Based Spatial Clustering of Applications with Noise, or DBSCAN, and Ordering Points To Identify the Clustering Structure, or OPTICS.\n",
    "\n",
    "    Strengths:\n",
    "    They excel at identifying clusters of nonspherical shapes.\n",
    "    They’re resistant to outliers.\n",
    "    \n",
    "    Weaknesses:\n",
    "    They aren’t well suited for clustering in high-dimensional spaces.\n",
    "    They have trouble identifying clusters of varying densities."
   ]
  },
  {
   "cell_type": "markdown",
   "metadata": {},
   "source": [
    "**Principal Component Analysis (PCA)** is one of many dimensionality reduction techniques.dimensionality reduction reduces the number of features in the dataset by either removing or combining them. PCA transforms the input data by projecting it into a lower number of dimensions called components.\n",
    "\n",
    "You use **MinMaxScaler** when you do not assume that the shape of all your features follows a normal distribution.\n",
    "\n",
    "**init:** You’ll use \"k-means++\" instead of \"random\" to ensure centroids are initialized with some distance between them. In most cases, this will be an improvement over \"random\".\n",
    "\n",
    "**n_init:** You’ll increase the number of initializations to ensure you find a stable solution.\n",
    "\n",
    "**max_iter:** You’ll increase the number of iterations per initialization to ensure that k-means will converge."
   ]
  },
  {
   "cell_type": "markdown",
   "metadata": {},
   "source": []
  }
 ],
 "metadata": {
  "kernelspec": {
   "display_name": "Python 3",
   "language": "python",
   "name": "python3"
  },
  "language_info": {
   "codemirror_mode": {
    "name": "ipython",
    "version": 3
   },
   "file_extension": ".py",
   "mimetype": "text/x-python",
   "name": "python",
   "nbconvert_exporter": "python",
   "pygments_lexer": "ipython3",
   "version": "3.7.6"
  }
 },
 "nbformat": 4,
 "nbformat_minor": 4
}
