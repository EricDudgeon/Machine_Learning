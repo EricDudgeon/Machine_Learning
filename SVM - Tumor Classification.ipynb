{
 "cells": [
  {
   "cell_type": "code",
   "execution_count": 1,
   "metadata": {
    "ExecuteTime": {
     "end_time": "2020-12-27T06:44:10.800812Z",
     "start_time": "2020-12-27T06:44:09.959852Z"
    }
   },
   "outputs": [],
   "source": [
    "import sklearn\n",
    "from sklearn import datasets\n",
    "from sklearn import svm\n",
    "from sklearn import metrics\n",
    "from sklearn.neighbors import KNeighborsClassifier\n",
    "import pickle"
   ]
  },
  {
   "cell_type": "code",
   "execution_count": 2,
   "metadata": {
    "ExecuteTime": {
     "end_time": "2020-12-27T06:44:16.262524Z",
     "start_time": "2020-12-27T06:44:16.227565Z"
    }
   },
   "outputs": [],
   "source": [
    "cancer = datasets.load_breast_cancer()"
   ]
  },
  {
   "cell_type": "code",
   "execution_count": 3,
   "metadata": {
    "ExecuteTime": {
     "end_time": "2020-12-27T06:44:21.241320Z",
     "start_time": "2020-12-27T06:44:21.228355Z"
    }
   },
   "outputs": [
    {
     "name": "stdout",
     "output_type": "stream",
     "text": [
      "['mean radius' 'mean texture' 'mean perimeter' 'mean area'\n",
      " 'mean smoothness' 'mean compactness' 'mean concavity'\n",
      " 'mean concave points' 'mean symmetry' 'mean fractal dimension'\n",
      " 'radius error' 'texture error' 'perimeter error' 'area error'\n",
      " 'smoothness error' 'compactness error' 'concavity error'\n",
      " 'concave points error' 'symmetry error' 'fractal dimension error'\n",
      " 'worst radius' 'worst texture' 'worst perimeter' 'worst area'\n",
      " 'worst smoothness' 'worst compactness' 'worst concavity'\n",
      " 'worst concave points' 'worst symmetry' 'worst fractal dimension'] \n",
      "\n",
      "['malignant' 'benign']\n"
     ]
    }
   ],
   "source": [
    "print(cancer.feature_names,'\\n')\n",
    "\n",
    "print(cancer.target_names)\n",
    "x = cancer.data\n",
    "y = cancer.target"
   ]
  },
  {
   "cell_type": "markdown",
   "metadata": {},
   "source": [
    "## Adding a Kernal\n",
    "#### Kernels provide a way for us to create a hyper-plane\n",
    "#### Kernel Options:\n",
    "- linear\n",
    "- poly\n",
    "- rbf\n",
    "- sigmoid\n",
    "- precomputed"
   ]
  },
  {
   "cell_type": "code",
   "execution_count": 4,
   "metadata": {
    "ExecuteTime": {
     "end_time": "2020-12-27T06:44:39.596880Z",
     "start_time": "2020-12-27T06:44:32.640459Z"
    }
   },
   "outputs": [
    {
     "name": "stdout",
     "output_type": "stream",
     "text": [
      "Accuracy: 0.9473684210526315\n",
      "Accuracy: 0.9298245614035088\n",
      "Accuracy: 0.956140350877193\n",
      "Accuracy: 0.9385964912280702\n",
      "Accuracy: 0.9736842105263158\n"
     ]
    }
   ],
   "source": [
    "# C is our margin and defaults to 1 if not specified\n",
    "best=0\n",
    "for _ in range(5):\n",
    "    x_train, x_test, y_train, y_test = sklearn.model_selection.train_test_split(x, y, test_size=0.2)\n",
    "    \n",
    "    #clf = svm.SVC(kernel=\"linear\", C=2) \n",
    "    clf = svm.SVC(kernel=\"linear\")\n",
    "    clf.fit(x_train, y_train)\n",
    "\n",
    "    y_pred = clf.predict(x_test)\n",
    "\n",
    "    acc = metrics.accuracy_score(y_test, y_pred)\n",
    "    print(\"Accuracy: \" + str(acc))\n",
    "    if acc > best:\n",
    "        best = acc\n",
    "        with open(\"Tumors.pickle\", \"wb\") as f:\n",
    "            pickle.dump(clf, f)\n"
   ]
  },
  {
   "cell_type": "code",
   "execution_count": 7,
   "metadata": {
    "ExecuteTime": {
     "end_time": "2020-12-27T06:47:38.729644Z",
     "start_time": "2020-12-27T06:47:38.722671Z"
    }
   },
   "outputs": [
    {
     "name": "stdout",
     "output_type": "stream",
     "text": [
      "Accuracy: \n",
      " 0.9736842105263158\n"
     ]
    }
   ],
   "source": [
    "pickle_in = open(\"Tumors.pickle\", \"rb\")\n",
    "clf = pickle.load(pickle_in)\n",
    "\n",
    "print(\"Accuracy: \\n\",acc)"
   ]
  },
  {
   "cell_type": "code",
   "execution_count": 6,
   "metadata": {
    "ExecuteTime": {
     "end_time": "2020-12-27T06:44:59.862040Z",
     "start_time": "2020-12-27T06:44:59.852065Z"
    }
   },
   "outputs": [
    {
     "name": "stdout",
     "output_type": "stream",
     "text": [
      "Prediction:  benign  Actual: malignant\n",
      "Prediction:  benign  Actual: malignant\n",
      "Prediction:  benign  Actual: malignant\n"
     ]
    }
   ],
   "source": [
    "for x in range(len(y_pred)):\n",
    "    if y_pred[x] != y_test[x]:\n",
    "        print(\"Prediction: \", cancer.target_names[y_pred[x]],\" Actual:\", cancer.target_names[y_test[x]])"
   ]
  },
  {
   "cell_type": "markdown",
   "metadata": {},
   "source": [
    "### Comparing SVM to KNN"
   ]
  },
  {
   "cell_type": "code",
   "execution_count": 8,
   "metadata": {
    "ExecuteTime": {
     "end_time": "2020-12-27T06:47:53.617752Z",
     "start_time": "2020-12-27T06:47:53.582844Z"
    }
   },
   "outputs": [
    {
     "name": "stdout",
     "output_type": "stream",
     "text": [
      "0.9210526315789473\n"
     ]
    }
   ],
   "source": [
    "\n",
    "knn = KNeighborsClassifier(n_neighbors=11)\n",
    "knn.fit(x_train, y_train)\n",
    "\n",
    "y_pred = knn.predict(x_test)\n",
    "\n",
    "acc = metrics.accuracy_score(y_test, y_pred)\n",
    "print(acc)"
   ]
  }
 ],
 "metadata": {
  "kernelspec": {
   "display_name": "Python 3",
   "language": "python",
   "name": "python3"
  },
  "language_info": {
   "codemirror_mode": {
    "name": "ipython",
    "version": 3
   },
   "file_extension": ".py",
   "mimetype": "text/x-python",
   "name": "python",
   "nbconvert_exporter": "python",
   "pygments_lexer": "ipython3",
   "version": "3.7.6"
  }
 },
 "nbformat": 4,
 "nbformat_minor": 4
}
