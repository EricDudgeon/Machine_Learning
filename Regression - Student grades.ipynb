{
 "cells": [
  {
   "cell_type": "code",
   "execution_count": 1,
   "metadata": {
    "ExecuteTime": {
     "end_time": "2020-12-27T01:09:39.183496Z",
     "start_time": "2020-12-27T01:09:35.231182Z"
    }
   },
   "outputs": [],
   "source": [
    "import pandas as pd\n",
    "import numpy as np\n",
    "import sklearn\n",
    "from sklearn import linear_model\n",
    "from sklearn.utils import shuffle\n",
    "import matplotlib.pyplot as plt\n",
    "from matplotlib import style\n",
    "import pickle"
   ]
  },
  {
   "cell_type": "code",
   "execution_count": 2,
   "metadata": {
    "ExecuteTime": {
     "end_time": "2020-12-27T01:09:40.906215Z",
     "start_time": "2020-12-27T01:09:40.861334Z"
    }
   },
   "outputs": [
    {
     "name": "stdout",
     "output_type": "stream",
     "text": [
      "  school sex  age address famsize Pstatus  Medu  Fedu     Mjob      Fjob  ...  \\\n",
      "0     GP   F   18       U     GT3       A     4     4  at_home   teacher  ...   \n",
      "1     GP   F   17       U     GT3       T     1     1  at_home     other  ...   \n",
      "2     GP   F   15       U     LE3       T     1     1  at_home     other  ...   \n",
      "3     GP   F   15       U     GT3       T     4     2   health  services  ...   \n",
      "4     GP   F   16       U     GT3       T     3     3    other     other  ...   \n",
      "\n",
      "  famrel freetime  goout  Dalc  Walc health absences  G1  G2  G3  \n",
      "0      4        3      4     1     1      3        6   5   6   6  \n",
      "1      5        3      3     1     1      3        4   5   5   6  \n",
      "2      4        3      2     2     3      3       10   7   8  10  \n",
      "3      3        2      2     1     1      5        2  15  14  15  \n",
      "4      4        3      2     1     2      5        4   6  10  10  \n",
      "\n",
      "[5 rows x 33 columns]\n"
     ]
    }
   ],
   "source": [
    "style.use(\"ggplot\")\n",
    "data = pd.read_csv(\"student-mat.csv\", sep=\";\")\n",
    "print(data.head())"
   ]
  },
  {
   "cell_type": "code",
   "execution_count": 3,
   "metadata": {
    "ExecuteTime": {
     "end_time": "2020-12-27T01:09:44.475459Z",
     "start_time": "2020-12-27T01:09:44.451524Z"
    }
   },
   "outputs": [
    {
     "name": "stdout",
     "output_type": "stream",
     "text": [
      "   G1  G2  G3  studytime  failures  absences\n",
      "0   5   6   6          2         0         6\n",
      "1   5   5   6          2         0         4\n",
      "2   7   8  10          2         3        10\n",
      "3  15  14  15          3         0         2\n",
      "4   6  10  10          2         0         4\n"
     ]
    }
   ],
   "source": [
    "data = data[[\"G1\", \"G2\", \"G3\", \"studytime\", \"failures\", \"absences\"]]\n",
    "print(data.head())"
   ]
  },
  {
   "cell_type": "code",
   "execution_count": 8,
   "metadata": {
    "ExecuteTime": {
     "end_time": "2020-12-27T01:14:41.179959Z",
     "start_time": "2020-12-27T01:14:41.158782Z"
    }
   },
   "outputs": [],
   "source": [
    "predict = \"G3\"\n",
    "\n",
    "x = np.array(data.drop([predict], 1)) # Features\n",
    "y = np.array(data[predict]) # Labels"
   ]
  },
  {
   "cell_type": "code",
   "execution_count": 10,
   "metadata": {
    "ExecuteTime": {
     "end_time": "2020-12-27T01:15:11.079954Z",
     "start_time": "2020-12-27T01:15:11.000912Z"
    }
   },
   "outputs": [
    {
     "name": "stdout",
     "output_type": "stream",
     "text": [
      "Accuracy: 0.7110966277555034\n",
      "Accuracy: 0.823518205026959\n",
      "Accuracy: 0.8296146468992127\n",
      "Accuracy: 0.7279335965387616\n",
      "Accuracy: 0.7148430926825871\n",
      "Accuracy: 0.9082066510077773\n",
      "Accuracy: 0.600518004007478\n",
      "Accuracy: 0.7942346313988644\n",
      "Accuracy: 0.760016305224985\n",
      "Accuracy: 0.7746306005231987\n",
      "Accuracy: 0.8324278576083869\n",
      "Accuracy: 0.7925139752347544\n",
      "Accuracy: 0.740688329380576\n",
      "Accuracy: 0.8215063144565151\n",
      "Accuracy: 0.8640723401897344\n",
      "Accuracy: 0.8820814736807313\n",
      "Accuracy: 0.7207950693580933\n",
      "Accuracy: 0.8815676478697811\n",
      "Accuracy: 0.8512204301549904\n",
      "Accuracy: 0.9430498890966533\n"
     ]
    }
   ],
   "source": [
    "best = 0\n",
    "for _ in range(20):\n",
    "    x_train, x_test, y_train, y_test = sklearn.model_selection.train_test_split(x, y, test_size=0.1)\n",
    "\n",
    "    linear = linear_model.LinearRegression()\n",
    "\n",
    "    linear.fit(x_train, y_train)\n",
    "    acc = linear.score(x_test, y_test)\n",
    "    print(\"Accuracy: \" + str(acc))\n",
    "\n",
    "    if acc > best:\n",
    "        best = acc\n",
    "        with open(\"studentgrades.pickle\", \"wb\") as f:\n",
    "            pickle.dump(linear, f)"
   ]
  },
  {
   "cell_type": "code",
   "execution_count": 11,
   "metadata": {
    "ExecuteTime": {
     "end_time": "2020-12-27T01:15:28.595613Z",
     "start_time": "2020-12-27T01:15:28.571272Z"
    }
   },
   "outputs": [
    {
     "name": "stdout",
     "output_type": "stream",
     "text": [
      "-------------------------\n",
      "Accuracy: \n",
      " 0.9430498890966533\n",
      "Coefficient: \n",
      " [ 0.13551844  0.99013923 -0.22171889 -0.30921666  0.04164901]\n",
      "Intercept: \n",
      " -1.3700190424042002\n",
      "-------------------------\n"
     ]
    }
   ],
   "source": [
    "# LOAD MODEL\n",
    "pickle_in = open(\"studentgrades.pickle\", \"rb\")\n",
    "linear = pickle.load(pickle_in)\n",
    "\n",
    "print(\"-------------------------\")\n",
    "print(\"Accuracy: \\n\",acc)\n",
    "print('Coefficient: \\n', linear.coef_)\n",
    "print('Intercept: \\n', linear.intercept_)\n",
    "print(\"-------------------------\")"
   ]
  },
  {
   "cell_type": "code",
   "execution_count": 12,
   "metadata": {
    "ExecuteTime": {
     "end_time": "2020-12-27T01:15:33.076407Z",
     "start_time": "2020-12-27T01:15:33.039888Z"
    }
   },
   "outputs": [
    {
     "name": "stdout",
     "output_type": "stream",
     "text": [
      "10.15931984458083 [ 9 11  3  0  2] 11\n",
      "9.067642185911204 [ 6 10  2  0  4] 10\n",
      "3.6411333343066516 [6 5 2 1 0] 0\n",
      "14.886571855509162 [12 15  1  0  0] 15\n",
      "13.427224316763525 [14 13  1  0  6] 13\n",
      "-1.0865466049728076 [7 0 3 0 0] 0\n",
      "-1.027387723425332 [12  0  3  2  0] 0\n",
      "12.878048354289382 [11 13  1  1 10] 13\n",
      "8.999682155353296 [10 10  4  0  0] 10\n",
      "9.421977083602437 [ 8 10  2  0  6] 10\n",
      "12.31213806412245 [14 12  1  0  3] 12\n",
      "16.246383968399037 [18 16  3  0  0] 16\n",
      "-1.8417957104177876 [5 0 1 3 0] 0\n",
      "7.824706482914614 [7 9 3 0 0] 8\n",
      "7.406849197473708 [5 9 2 2 6] 7\n",
      "18.36218087433511 [19 18  3  0  0] 19\n",
      "18.254837588249103 [18 18  4  0  6] 18\n",
      "8.314559822566936 [10  9  3  0  2] 8\n",
      "5.607207409022061 [8 7 2 3 8] 8\n",
      "10.73117386277629 [11 11  1  1  6] 10\n",
      "15.730760092852718 [17 15  1  0  4] 16\n",
      "10.649806637802408 [ 9  9  2  0 56] 8\n",
      "13.890627764117806 [14 14  3  0  4] 14\n",
      "16.332584411870023 [17 16  2  0  0] 17\n",
      "4.679293229558324 [7 6 1 2 0] 0\n",
      "12.684574506102102 [12 13  2  0  0] 14\n",
      "8.736854750816079 [8 9 1 0 8] 10\n",
      "3.910803001633198 [ 6  5  1  3 16] 5\n",
      "18.53458176127708 [17 18  1  0  0] 18\n",
      "16.280363983677994 [16 16  2  0  2] 17\n",
      "8.522804856989575 [10  9  3  0  7] 9\n",
      "9.171585232574433 [11  9  2  0 14] 9\n",
      "8.367208179110097 [ 7 10  4  1  2] 10\n",
      "15.923126656284824 [15 16  3  0  2] 18\n",
      "-0.8648277195407299 [7 0 2 0 0] 0\n",
      "11.194577310130569 [11 12  3  1  4] 11\n",
      "10.599855185743053 [10 11  2  0  4] 9\n",
      "14.935889853999265 [14 15  2  0  0] 15\n",
      "5.492497741229492 [ 7  6  2  0 10] 6\n",
      "-0.458272393657462 [10  0  2  0  0] 0\n"
     ]
    }
   ],
   "source": [
    "predictions = linear.predict(x_test)\n",
    "\n",
    "for x in range(len(predictions)):\n",
    "    print(predictions[x], x_test[x], y_test[x])"
   ]
  }
 ],
 "metadata": {
  "kernelspec": {
   "display_name": "Python 3",
   "language": "python",
   "name": "python3"
  },
  "language_info": {
   "codemirror_mode": {
    "name": "ipython",
    "version": 3
   },
   "file_extension": ".py",
   "mimetype": "text/x-python",
   "name": "python",
   "nbconvert_exporter": "python",
   "pygments_lexer": "ipython3",
   "version": "3.7.6"
  }
 },
 "nbformat": 4,
 "nbformat_minor": 4
}
